{
  "nbformat": 4,
  "nbformat_minor": 0,
  "metadata": {
    "colab": {
      "provenance": [],
      "collapsed_sections": []
    },
    "kernelspec": {
      "name": "python3",
      "display_name": "Python 3"
    },
    "language_info": {
      "name": "python"
    },
    "accelerator": "GPU"
  },
  "cells": [
    {
      "cell_type": "code",
      "source": [
        "# Gerekli kutuphanelerin import edilmesi\n",
        "import numpy as np\n",
        "import tensorflow as tf\n",
        "import matplotlib.pyplot as plt\n",
        "from keras.models import Sequential\n",
        "from keras.layers import Dense, Dropout, Activation, Flatten\n",
        "from keras.layers import Conv2D, MaxPooling2D"
      ],
      "metadata": {
        "id": "LooRZMRRJBr-"
      },
      "execution_count": 1,
      "outputs": []
    },
    {
      "cell_type": "code",
      "source": [
        "# GPU ayarlanmasi\n",
        "!nvidia-smi -L"
      ],
      "metadata": {
        "colab": {
          "base_uri": "https://localhost:8080/"
        },
        "id": "aVgjtC6cTy_K",
        "outputId": "c388cbfb-128c-4729-cbbc-99c52fc4601a"
      },
      "execution_count": 2,
      "outputs": [
        {
          "output_type": "stream",
          "name": "stdout",
          "text": [
            "GPU 0: Tesla T4 (UUID: GPU-624d8629-5edf-2359-507a-600b369d0962)\n"
          ]
        }
      ]
    },
    {
      "cell_type": "code",
      "source": [
        "# google drive, colab notebook'un dosyalar kısmına ekleniyor (mount ediliyor)\n",
        "from google.colab import drive\n",
        "drive.mount('/content/drive')"
      ],
      "metadata": {
        "colab": {
          "base_uri": "https://localhost:8080/"
        },
        "id": "_d9GNdQTIFyJ",
        "outputId": "c68e59bf-f0f4-4d61-f702-103b2459db7a"
      },
      "execution_count": 3,
      "outputs": [
        {
          "output_type": "stream",
          "name": "stdout",
          "text": [
            "Drive already mounted at /content/drive; to attempt to forcibly remount, call drive.mount(\"/content/drive\", force_remount=True).\n"
          ]
        }
      ]
    },
    {
      "cell_type": "code",
      "execution_count": 4,
      "metadata": {
        "id": "gf8ugKOsITPY"
      },
      "outputs": [],
      "source": [
        "# On islemesi tamamlanan veri setinin okunmasi\n",
        "with open(\"/content/drive/MyDrive/spectrograms_train_test_val/X_train.npy\", \"rb\") as f:\n",
        "  X_train = np.load(f)\n",
        "\n",
        "with open(\"/content/drive/MyDrive/spectrograms_train_test_val/y_train.npy\", \"rb\") as f:\n",
        "  y_train = np.load(f)\n",
        "\n",
        "with open(\"/content/drive/MyDrive/spectrograms_train_test_val/X_test.npy\", \"rb\") as f:\n",
        "  X_test = np.load(f)\n",
        "\n",
        "with open(\"/content/drive/MyDrive/spectrograms_train_test_val/y_test.npy\", \"rb\") as f:\n",
        "  y_test = np.load(f)\n",
        "\n",
        "with open(\"/content/drive/MyDrive/spectrograms_train_test_val/X_val.npy\", \"rb\") as f:\n",
        "  X_val = np.load(f)\n",
        "  \n",
        "with open(\"/content/drive/MyDrive/spectrograms_train_test_val/y_val.npy\", \"rb\") as f:\n",
        "  y_val = np.load(f)"
      ]
    },
    {
      "cell_type": "code",
      "source": [
        "num_classes = 10\n",
        "y_train = tf.keras.utils.to_categorical(y_train, num_classes)\n",
        "y_test = tf.keras.utils.to_categorical(y_test, num_classes)\n",
        "y_val = tf.keras.utils.to_categorical(y_val, num_classes)"
      ],
      "metadata": {
        "id": "lwBW2-PpPr_M"
      },
      "execution_count": 5,
      "outputs": []
    },
    {
      "cell_type": "markdown",
      "source": [
        "Modelleme"
      ],
      "metadata": {
        "id": "f2bsURFNndaN"
      }
    },
    {
      "cell_type": "code",
      "source": [
        "model = Sequential()\n",
        "model.add(Conv2D(32, (3, 3), padding='same',\n",
        "                 input_shape=(64, 64, 1)))\n",
        "model.add(Activation('relu'))\n",
        "model.add(Conv2D(32, (3, 3)))\n",
        "model.add(Activation('relu'))\n",
        "model.add(MaxPooling2D(pool_size=(2, 2)))\n",
        "model.add(Dropout(0.25))\n",
        "\n",
        "model.add(Conv2D(64, (3, 3), padding='same'))\n",
        "model.add(Activation('relu'))\n",
        "model.add(Conv2D(64, (3, 3)))\n",
        "model.add(Activation('relu'))\n",
        "model.add(MaxPooling2D(pool_size=(2, 2)))\n",
        "model.add(Dropout(0.25))\n",
        "\n",
        "model.add(Flatten())\n",
        "model.add(Dense(512))\n",
        "model.add(Activation('relu'))\n",
        "model.add(Dropout(0.5))\n",
        "model.add(Dense(num_classes))\n",
        "model.add(Activation('softmax'))\n",
        "\n",
        "model.compile(loss='categorical_crossentropy',\n",
        "              optimizer='adam',\n",
        "              metrics=['accuracy'])"
      ],
      "metadata": {
        "id": "OHetuojcS-2_"
      },
      "execution_count": 6,
      "outputs": []
    },
    {
      "cell_type": "code",
      "source": [
        "# Modelin egitilmesi\n",
        "history = model.fit(X_train, y_train, epochs=20, validation_data=(X_val, y_val))"
      ],
      "metadata": {
        "colab": {
          "base_uri": "https://localhost:8080/"
        },
        "id": "0SGAa1mWLVoB",
        "outputId": "7fb91032-136f-4955-c9b7-131b8253f0a3"
      },
      "execution_count": 7,
      "outputs": [
        {
          "output_type": "stream",
          "name": "stdout",
          "text": [
            "Epoch 1/20\n",
            "164/164 [==============================] - 6s 17ms/step - loss: 1.5258 - accuracy: 0.4591 - val_loss: 1.1089 - val_accuracy: 0.6153\n",
            "Epoch 2/20\n",
            "164/164 [==============================] - 2s 14ms/step - loss: 0.9689 - accuracy: 0.6720 - val_loss: 0.8006 - val_accuracy: 0.7441\n",
            "Epoch 3/20\n",
            "164/164 [==============================] - 2s 14ms/step - loss: 0.7058 - accuracy: 0.7703 - val_loss: 0.5774 - val_accuracy: 0.8134\n",
            "Epoch 4/20\n",
            "164/164 [==============================] - 2s 14ms/step - loss: 0.5187 - accuracy: 0.8309 - val_loss: 0.5727 - val_accuracy: 0.8266\n",
            "Epoch 5/20\n",
            "164/164 [==============================] - 2s 14ms/step - loss: 0.4014 - accuracy: 0.8666 - val_loss: 0.4465 - val_accuracy: 0.8592\n",
            "Epoch 6/20\n",
            "164/164 [==============================] - 2s 14ms/step - loss: 0.2913 - accuracy: 0.9019 - val_loss: 0.4746 - val_accuracy: 0.8643\n",
            "Epoch 7/20\n",
            "164/164 [==============================] - 2s 14ms/step - loss: 0.2273 - accuracy: 0.9223 - val_loss: 0.5054 - val_accuracy: 0.8632\n",
            "Epoch 8/20\n",
            "164/164 [==============================] - 2s 14ms/step - loss: 0.1843 - accuracy: 0.9420 - val_loss: 0.4743 - val_accuracy: 0.8718\n",
            "Epoch 9/20\n",
            "164/164 [==============================] - 2s 14ms/step - loss: 0.1678 - accuracy: 0.9429 - val_loss: 0.5112 - val_accuracy: 0.8649\n",
            "Epoch 10/20\n",
            "164/164 [==============================] - 2s 14ms/step - loss: 0.1180 - accuracy: 0.9616 - val_loss: 0.5495 - val_accuracy: 0.8683\n",
            "Epoch 11/20\n",
            "164/164 [==============================] - 2s 14ms/step - loss: 0.0958 - accuracy: 0.9685 - val_loss: 0.5575 - val_accuracy: 0.8792\n",
            "Epoch 12/20\n",
            "164/164 [==============================] - 2s 14ms/step - loss: 0.1295 - accuracy: 0.9590 - val_loss: 0.4782 - val_accuracy: 0.8884\n",
            "Epoch 13/20\n",
            "164/164 [==============================] - 2s 14ms/step - loss: 0.0887 - accuracy: 0.9725 - val_loss: 0.5082 - val_accuracy: 0.8884\n",
            "Epoch 14/20\n",
            "164/164 [==============================] - 2s 14ms/step - loss: 0.0788 - accuracy: 0.9731 - val_loss: 0.5301 - val_accuracy: 0.8993\n",
            "Epoch 15/20\n",
            "164/164 [==============================] - 2s 14ms/step - loss: 0.0847 - accuracy: 0.9729 - val_loss: 0.5295 - val_accuracy: 0.8844\n",
            "Epoch 16/20\n",
            "164/164 [==============================] - 2s 14ms/step - loss: 0.0718 - accuracy: 0.9784 - val_loss: 0.6046 - val_accuracy: 0.8706\n",
            "Epoch 17/20\n",
            "164/164 [==============================] - 2s 14ms/step - loss: 0.0592 - accuracy: 0.9786 - val_loss: 0.5949 - val_accuracy: 0.8867\n",
            "Epoch 18/20\n",
            "164/164 [==============================] - 2s 14ms/step - loss: 0.0554 - accuracy: 0.9813 - val_loss: 0.5815 - val_accuracy: 0.8821\n",
            "Epoch 19/20\n",
            "164/164 [==============================] - 2s 14ms/step - loss: 0.0606 - accuracy: 0.9830 - val_loss: 0.6402 - val_accuracy: 0.8695\n",
            "Epoch 20/20\n",
            "164/164 [==============================] - 2s 14ms/step - loss: 0.0540 - accuracy: 0.9822 - val_loss: 0.6690 - val_accuracy: 0.8741\n"
          ]
        }
      ]
    },
    {
      "cell_type": "code",
      "source": [
        "# Accuracy grafigi\n",
        "plt.plot(history.history['accuracy'], label='accuracy')\n",
        "plt.plot(history.history['val_accuracy'], label = 'val_accuracy')\n",
        "plt.xlabel('Epoch')\n",
        "plt.ylabel('Accuracy')\n",
        "plt.ylim([0.5, 1])\n",
        "plt.legend(loc='lower right')"
      ],
      "metadata": {
        "colab": {
          "base_uri": "https://localhost:8080/",
          "height": 300
        },
        "id": "bPR-SjC1NCQd",
        "outputId": "5befce34-0804-470f-f9fa-b55012ec1983"
      },
      "execution_count": 10,
      "outputs": [
        {
          "output_type": "execute_result",
          "data": {
            "text/plain": [
              "<matplotlib.legend.Legend at 0x7f0f42105ad0>"
            ]
          },
          "metadata": {},
          "execution_count": 10
        },
        {
          "output_type": "display_data",
          "data": {
            "text/plain": [
              "<Figure size 432x288 with 1 Axes>"
            ],
            "image/png": "[encoded data removed]"
          },
          "metadata": {
            "needs_background": "light"
          }
        }
      ]
    },
    {
      "cell_type": "code",
      "source": [
        "test_loss, test_acc = model.evaluate(X_test, y_test, verbose=2)"
      ],
      "metadata": {
        "id": "RJbqQYvIPD2H",
        "colab": {
          "base_uri": "https://localhost:8080/"
        },
        "outputId": "2150e44c-08c3-406b-e124-e8c4908b4b31"
      },
      "execution_count": 11,
      "outputs": [
        {
          "output_type": "stream",
          "name": "stdout",
          "text": [
            "55/55 - 0s - loss: 0.5838 - accuracy: 0.8844 - 368ms/epoch - 7ms/step\n"
          ]
        }
      ]
    },
    {
      "cell_type": "markdown",
      "source": [
        "Hiperparametre optimizasyonu ile modelin yeniden eğitilmesi"
      ],
      "metadata": {
        "id": "tlTjbvWRnjVX"
      }
    },
    {
      "cell_type": "code",
      "source": [
        "# Modelleme\n",
        "model_hp = Sequential()\n",
        "model_hp.add(Conv2D(32, (3, 3), padding='same',\n",
        "                 input_shape=(64, 64, 1)))\n",
        "model_hp.add(Activation('relu'))\n",
        "model_hp.add(Conv2D(32, (3, 3)))\n",
        "model_hp.add(Activation('relu'))\n",
        "model_hp.add(MaxPooling2D(pool_size=(2, 2)))\n",
        "model_hp.add(Dropout(0.4))\n",
        "\n",
        "model_hp.add(Conv2D(64, (3, 3), padding='same'))\n",
        "model_hp.add(Activation('relu'))\n",
        "model_hp.add(Conv2D(64, (3, 3)))\n",
        "model_hp.add(Activation('relu'))\n",
        "model_hp.add(MaxPooling2D(pool_size=(2, 2)))\n",
        "model_hp.add(Dropout(0.4))\n",
        "\n",
        "model_hp.add(Flatten())\n",
        "model_hp.add(Dense(512))\n",
        "model_hp.add(Activation('relu'))\n",
        "model_hp.add(Dropout(0.7))\n",
        "model_hp.add(Dense(num_classes))\n",
        "model_hp.add(Activation('softmax'))\n",
        "\n",
        "model_hp.compile(loss='categorical_crossentropy',\n",
        "              optimizer='adam',\n",
        "              metrics=['accuracy'])"
      ],
      "metadata": {
        "id": "ymx6rTvSnqGv"
      },
      "execution_count": 12,
      "outputs": []
    },
    {
      "cell_type": "code",
      "source": [
        "# Modelin egitilmesi\n",
        "history_hp = model_hp.fit(X_train, y_train, epochs=20, validation_data=(X_val, y_val))"
      ],
      "metadata": {
        "colab": {
          "base_uri": "https://localhost:8080/"
        },
        "id": "kN2-IllooivO",
        "outputId": "ff69f6c3-8aec-4176-cbcc-dfaeb29f5658"
      },
      "execution_count": 13,
      "outputs": [
        {
          "output_type": "stream",
          "name": "stdout",
          "text": [
            "Epoch 1/20\n",
            "164/164 [==============================] - 3s 16ms/step - loss: 1.7234 - accuracy: 0.3851 - val_loss: 1.1854 - val_accuracy: 0.6119\n",
            "Epoch 2/20\n",
            "164/164 [==============================] - 2s 14ms/step - loss: 1.1472 - accuracy: 0.6105 - val_loss: 0.8942 - val_accuracy: 0.7224\n",
            "Epoch 3/20\n",
            "164/164 [==============================] - 2s 14ms/step - loss: 0.9221 - accuracy: 0.7008 - val_loss: 0.7370 - val_accuracy: 0.7716\n",
            "Epoch 4/20\n",
            "164/164 [==============================] - 2s 14ms/step - loss: 0.7414 - accuracy: 0.7520 - val_loss: 0.6390 - val_accuracy: 0.7951\n",
            "Epoch 5/20\n",
            "164/164 [==============================] - 2s 14ms/step - loss: 0.6273 - accuracy: 0.8005 - val_loss: 0.5673 - val_accuracy: 0.8271\n",
            "Epoch 6/20\n",
            "164/164 [==============================] - 2s 14ms/step - loss: 0.5428 - accuracy: 0.8247 - val_loss: 0.4876 - val_accuracy: 0.8432\n",
            "Epoch 7/20\n",
            "164/164 [==============================] - 2s 14ms/step - loss: 0.4517 - accuracy: 0.8465 - val_loss: 0.4624 - val_accuracy: 0.8512\n",
            "Epoch 8/20\n",
            "164/164 [==============================] - 2s 14ms/step - loss: 0.3991 - accuracy: 0.8673 - val_loss: 0.4459 - val_accuracy: 0.8529\n",
            "Epoch 9/20\n",
            "164/164 [==============================] - 2s 14ms/step - loss: 0.3666 - accuracy: 0.8809 - val_loss: 0.4466 - val_accuracy: 0.8620\n",
            "Epoch 10/20\n",
            "164/164 [==============================] - 2s 14ms/step - loss: 0.3023 - accuracy: 0.8944 - val_loss: 0.4471 - val_accuracy: 0.8661\n",
            "Epoch 11/20\n",
            "164/164 [==============================] - 2s 14ms/step - loss: 0.2877 - accuracy: 0.9066 - val_loss: 0.4034 - val_accuracy: 0.8872\n",
            "Epoch 12/20\n",
            "164/164 [==============================] - 2s 14ms/step - loss: 0.2583 - accuracy: 0.9114 - val_loss: 0.6248 - val_accuracy: 0.8288\n",
            "Epoch 13/20\n",
            "164/164 [==============================] - 2s 14ms/step - loss: 0.2264 - accuracy: 0.9261 - val_loss: 0.3840 - val_accuracy: 0.8861\n",
            "Epoch 14/20\n",
            "164/164 [==============================] - 2s 14ms/step - loss: 0.1823 - accuracy: 0.9374 - val_loss: 0.4304 - val_accuracy: 0.8878\n",
            "Epoch 15/20\n",
            "164/164 [==============================] - 2s 14ms/step - loss: 0.1848 - accuracy: 0.9372 - val_loss: 0.4484 - val_accuracy: 0.8844\n",
            "Epoch 16/20\n",
            "164/164 [==============================] - 2s 14ms/step - loss: 0.1705 - accuracy: 0.9410 - val_loss: 0.4946 - val_accuracy: 0.8849\n",
            "Epoch 17/20\n",
            "164/164 [==============================] - 2s 14ms/step - loss: 0.1957 - accuracy: 0.9345 - val_loss: 0.5173 - val_accuracy: 0.8741\n",
            "Epoch 18/20\n",
            "164/164 [==============================] - 2s 14ms/step - loss: 0.1698 - accuracy: 0.9481 - val_loss: 0.4462 - val_accuracy: 0.8861\n",
            "Epoch 19/20\n",
            "164/164 [==============================] - 2s 14ms/step - loss: 0.1486 - accuracy: 0.9467 - val_loss: 0.4398 - val_accuracy: 0.8970\n",
            "Epoch 20/20\n",
            "164/164 [==============================] - 2s 14ms/step - loss: 0.1419 - accuracy: 0.9517 - val_loss: 0.4760 - val_accuracy: 0.8901\n"
          ]
        }
      ]
    },
    {
      "cell_type": "code",
      "source": [
        "# Accuracy grafigi\n",
        "plt.plot(history_hp.history['accuracy'], label='accuracy')\n",
        "plt.plot(history_hp.history['val_accuracy'], label = 'val_accuracy')\n",
        "plt.xlabel('Epoch')\n",
        "plt.ylabel('Accuracy')\n",
        "plt.ylim([0.5, 1])\n",
        "plt.legend(loc='lower right')"
      ],
      "metadata": {
        "colab": {
          "base_uri": "https://localhost:8080/",
          "height": 300
        },
        "id": "drd3SGw7ntNg",
        "outputId": "bf79604d-eca1-4cb4-ce64-4c0ccbbaa402"
      },
      "execution_count": 15,
      "outputs": [
        {
          "output_type": "execute_result",
          "data": {
            "text/plain": [
              "<matplotlib.legend.Legend at 0x7f0f1ae88d90>"
            ]
          },
          "metadata": {},
          "execution_count": 15
        },
        {
          "output_type": "display_data",
          "data": {
            "text/plain": [
              "<Figure size 432x288 with 1 Axes>"
            ],
            "image/png": "[encoded data removed]"
          },
          "metadata": {
            "needs_background": "light"
          }
        }
      ]
    },
    {
      "cell_type": "code",
      "source": [
        "test_loss, test_acc = model_hp.evaluate(X_test, y_test, verbose=2)"
      ],
      "metadata": {
        "colab": {
          "base_uri": "https://localhost:8080/"
        },
        "id": "a6omCkzcnxxH",
        "outputId": "49a9311c-4bfe-449a-a93d-b9e50025a44f"
      },
      "execution_count": 16,
      "outputs": [
        {
          "output_type": "stream",
          "name": "stdout",
          "text": [
            "55/55 - 0s - loss: 0.5165 - accuracy: 0.8804 - 331ms/epoch - 6ms/step\n"
          ]
        }
      ]
    }
  ]
}